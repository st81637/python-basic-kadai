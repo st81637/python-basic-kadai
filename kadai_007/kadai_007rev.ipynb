{
  "nbformat": 4,
  "nbformat_minor": 0,
  "metadata": {
    "colab": {
      "provenance": []
    },
    "kernelspec": {
      "name": "python3",
      "display_name": "Python 3"
    },
    "language_info": {
      "name": "python"
    }
  },
  "cells": [
    {
      "cell_type": "code",
      "execution_count": null,
      "metadata": {
        "colab": {
          "base_uri": "https://localhost:8080/"
        },
        "id": "5b5cAQfaU53b",
        "outputId": "0a5a1679-fe3f-482e-d579-70c3d51b7c7e"
      },
      "outputs": [
        {
          "output_type": "stream",
          "name": "stdout",
          "text": [
            "水曜日は晴れです\n"
          ]
        }
      ],
      "source": [
        "array = [\"月曜日は晴れです\", \"火曜日は雨です\", \"水曜日は晴れです\", \"木曜日は晴れです\", \"金曜日は曇りです\", \"土曜日は曇りのち雨です\", \"日曜日は雷雨です\"]\n",
        "print(array[2])"
      ]
    },
    {
      "cell_type": "code",
      "source": [
        "dictionary = {\"mon\": \"晴れ\", \"tue\": \"雨\", \"wed\": \"晴れ\", \"thu\": \"晴れ\", \"fri\": \"曇り\", \"sat\": \"曇りのち雨\", \"sun\": \"雷雨\"}\n",
        "print(dictionary[\"wed\"])"
      ],
      "metadata": {
        "colab": {
          "base_uri": "https://localhost:8080/"
        },
        "id": "KtnQtEulYtLh",
        "outputId": "fd294522-a1c3-412f-cc77-fc4e0de8ea04"
      },
      "execution_count": 4,
      "outputs": [
        {
          "output_type": "stream",
          "name": "stdout",
          "text": [
            "晴れ\n"
          ]
        }
      ]
    },
    {
      "cell_type": "markdown",
      "source": [
        "#課題の内容\n",
        "以下の表の内容でリスト（array）とディクショナリ（dictionary）をそれぞれ作成し、水曜日の天気予報を取り出して出力してください。\n",
        "\n",
        "##リスト：array\n",
        "「array」という名前のリストを以下の内容で作成してください。\n",
        "\n",
        "\n",
        "|リストの順序||リストに入れる文字列|  \n",
        "| --- || --- |\n",
        "|0| |月曜日は晴れです|\n",
        "|1| |火曜日は雨です|\n",
        "|2|\t|水曜日は晴れです|  \n",
        "|3|\t|木曜日は晴れです|\n",
        "|4|\t|金曜日は曇りです|  \n",
        "|5| |土曜日は曇りのち雨です|  \n",
        "|6|\t|日曜日は雷雨です|  \n",
        "\n",
        "\n",
        "\n",
        "##ディクショナリ\n",
        "「dictionary」という名前のディクショナリを以下の内容で作成してください。\n",
        "\n",
        "|キー|\t|ディクショナリに入れる文字列|\n",
        "| --- || --- |\n",
        "|mon|\t|晴れ|\n",
        "|tue|\t|雨|\n",
        "|wed|\t|晴れ|\n",
        "|thu|\t|晴れ|\n",
        "|fri|\t|曇り|\n",
        "|sat|\t|曇りのち雨|\n",
        "|sun|\t|雷雨|\n"
      ],
      "metadata": {
        "id": "A1vO1jLyU9hq"
      }
    }
  ]
}