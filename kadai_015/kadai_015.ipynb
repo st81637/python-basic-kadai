{
  "nbformat": 4,
  "nbformat_minor": 0,
  "metadata": {
    "colab": {
      "provenance": []
    },
    "kernelspec": {
      "name": "python3",
      "display_name": "Python 3"
    },
    "language_info": {
      "name": "python"
    }
  },
  "cells": [
    {
      "cell_type": "code",
      "execution_count": 3,
      "metadata": {
        "colab": {
          "base_uri": "https://localhost:8080/"
        },
        "id": "MZNYsfZESfRP",
        "outputId": "799be862-9b03-4c57-9d1f-132a55f62ee2"
      },
      "outputs": [
        {
          "output_type": "stream",
          "name": "stdout",
          "text": [
            "Name: サムライイチロウ, Age: 26\n"
          ]
        }
      ],
      "source": [
        "#課題 名前(name)と年齢(age)の属性を持つHumanクラスを作成\n",
        "#クラスHumanを定義\n",
        "class Human:\n",
        "\n",
        "    # コンストラクタの定義\n",
        "    def __init__(self, name, age):\n",
        "      #属性を定義する\n",
        "      self.name = name\n",
        "      self.age = age\n",
        "\n",
        "     # nameとageを標準出力するメソッドを定義する\n",
        "    def printinfo(self):\n",
        "      print(f\"Name: {self.name}, Age: {self.age}\")\n",
        "\n",
        "#インスタンス化する\n",
        "human = Human(\"サムライイチロウ\", \"26\")\n",
        "\n",
        "#printinfoメソッドを呼び出して表示する\n",
        "human.printinfo()"
      ]
    }
  ]
}