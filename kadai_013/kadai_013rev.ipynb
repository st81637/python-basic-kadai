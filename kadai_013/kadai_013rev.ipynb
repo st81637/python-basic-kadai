{
  "nbformat": 4,
  "nbformat_minor": 0,
  "metadata": {
    "colab": {
      "provenance": []
    },
    "kernelspec": {
      "name": "python3",
      "display_name": "Python 3"
    },
    "language_info": {
      "name": "python"
    }
  },
  "cells": [
    {
      "cell_type": "code",
      "execution_count": null,
      "metadata": {
        "id": "87t4qBNzF2Dp"
      },
      "outputs": [],
      "source": [
        "#商品を購入して、消費税を加えた計算結果を返す関数\n",
        "def total_price(price, tax):\n",
        "    # 与えられた引数priceに消費税を加算し、変数totalに代入する\n",
        "    total = price + price * tax\n",
        "\n",
        "    # 戻り値を返す\n",
        "    return total"
      ]
    }
  ]
}