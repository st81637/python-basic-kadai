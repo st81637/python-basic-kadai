{
  "nbformat": 4,
  "nbformat_minor": 0,
  "metadata": {
    "colab": {
      "provenance": []
    },
    "kernelspec": {
      "name": "python3",
      "display_name": "Python 3"
    },
    "language_info": {
      "name": "python"
    }
  },
  "cells": [
    {
      "cell_type": "code",
      "execution_count": 2,
      "metadata": {
        "colab": {
          "base_uri": "https://localhost:8080/"
        },
        "id": "EdbbG4sh9Yl7",
        "outputId": "d4420613-3d42-4af2-fc72-5be13f9379ed"
      },
      "outputs": [
        {
          "output_type": "stream",
          "name": "stdout",
          "text": [
            "1100.0円\n"
          ]
        }
      ],
      "source": [
        "#商品を購入して、消費税を加えた計算結果を返す関数\n",
        "def total_price(price, tax):\n",
        "    # 与えられた引数priceに消費税を加算し、変数totalに代入する\n",
        "    total = price + price * tax\n",
        "\n",
        "    # 変数totalの値を出力する\n",
        "    print(f\"{total}円\")\n",
        "\n",
        "#関数を呼び出して合計金額を表示（例.1,000円の商品）\n",
        "total_price(1000, 0.1)"
      ]
    }
  ]
}