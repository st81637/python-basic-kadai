{
  "nbformat": 4,
  "nbformat_minor": 0,
  "metadata": {
    "colab": {
      "provenance": []
    },
    "kernelspec": {
      "name": "python3",
      "display_name": "Python 3"
    },
    "language_info": {
      "name": "python"
    }
  },
  "cells": [
    {
      "cell_type": "code",
      "execution_count": 9,
      "metadata": {
        "colab": {
          "base_uri": "https://localhost:8080/"
        },
        "id": "ER_T5IavP1Pm",
        "outputId": "f874866e-6256-45bf-aa8f-da662de0fcd0"
      },
      "outputs": [
        {
          "output_type": "stream",
          "name": "stdout",
          "text": [
            "799\n",
            "799\n"
          ]
        }
      ],
      "source": [
        "#ランダムな整数を利用するために、randomモジュールをインポート\n",
        "import random\n",
        "\n",
        "# 変数numに1～1000までのランダムな整数を代入する\n",
        "var = random.randint(1, 1000)\n",
        "\n",
        "# 変数numの値を出力\n",
        "print(var)\n",
        "\n",
        "if var % 3 == 0 and var % 5 == 0:\n",
        "    print(\"FizzBuzz\")  # 3の倍数と5の倍数の両方に該当する場合は「FizzBuzz」を出力\n",
        "elif var % 3 == 0 and var % 5 != 0:\n",
        "    print(\"Fizz\")      # 3の倍数の場合は「Fizz」を出力\n",
        "elif var % 3 != 0 and var % 5 == 0:\n",
        "    print(\"Buzz\")      # 5の倍数の場合は「Buzz」を出力\n",
        "else:\n",
        "    print(var)"
      ]
    }
  ]
}