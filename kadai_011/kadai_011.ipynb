{
  "nbformat": 4,
  "nbformat_minor": 0,
  "metadata": {
    "colab": {
      "provenance": []
    },
    "kernelspec": {
      "name": "python3",
      "display_name": "Python 3"
    },
    "language_info": {
      "name": "python"
    }
  },
  "cells": [
    {
      "cell_type": "code",
      "execution_count": 9,
      "metadata": {
        "colab": {
          "base_uri": "https://localhost:8080/"
        },
        "id": "rlZsboWCqyGC",
        "outputId": "0c1f825c-527c-43fc-cf54-b7c5e49a22fa"
      },
      "outputs": [
        {
          "output_type": "stream",
          "name": "stdout",
          "text": [
            "水\n",
            "金\n",
            "地\n",
            "火\n",
            "木\n",
            "土\n",
            "天\n",
            "海\n",
            "冥\n",
            "水\n",
            "金\n",
            "地\n",
            "火\n",
            "木\n",
            "土\n",
            "天\n",
            "海\n",
            "冥\n"
          ]
        }
      ],
      "source": [
        "#for文で\"水\",\"金\",\"地\",\"火\",\"木\",\"土\",\"天\",\"海\",\"冥\"\n",
        "array = [\"水\",\"金\",\"地\",\"火\",\"木\",\"土\",\"天\",\"海\",\"冥\"]\n",
        "\n",
        "for planet in array:\n",
        "    print(planet)\n",
        "\n",
        "\n",
        "# while文で\"水\",\"金\",\"地\",\"火\",\"木\",\"土\",\"天\",\"海\",\"冥\"\n",
        "#カウンタiの準備\n",
        "i = 0\n",
        "\n",
        "while i < len(array):\n",
        "    print(array[i])\n",
        "    # カウンタ変数の値を1増やす\n",
        "    i = i + 1\n",
        "    # 最後の要素に達したらループを終了する\n",
        "    if i == len(array):\n",
        "        break"
      ]
    }
  ]
}