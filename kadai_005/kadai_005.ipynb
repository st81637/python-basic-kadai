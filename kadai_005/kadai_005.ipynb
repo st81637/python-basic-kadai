{
  "nbformat": 4,
  "nbformat_minor": 0,
  "metadata": {
    "colab": {
      "provenance": []
    },
    "kernelspec": {
      "name": "python3",
      "display_name": "Python 3"
    },
    "language_info": {
      "name": "python"
    }
  },
  "cells": [
    {
      "cell_type": "markdown",
      "source": [],
      "metadata": {
        "id": "wfHb5hm4Gjc-"
      }
    },
    {
      "cell_type": "code",
      "source": [
        "top_side = 10\n",
        "bottom_side = 20\n",
        "hight = 5\n",
        "area = (top_side + bottom_side)* hight / 2\n",
        "print(f\"{area}cm²\")"
      ],
      "metadata": {
        "colab": {
          "base_uri": "https://localhost:8080/"
        },
        "id": "ToXXaDbqGuhd",
        "outputId": "a9902957-cf88-4a64-e33e-bbb65b5427cb"
      },
      "execution_count": 6,
      "outputs": [
        {
          "output_type": "stream",
          "name": "stdout",
          "text": [
            "75.0cm²\n"
          ]
        }
      ]
    },
    {
      "cell_type": "markdown",
      "source": [
        "#変数を使って四則演算しよう\n",
        "##課題\n",
        "上辺：10cm\n",
        "下辺：20cm\n",
        "高さ：5cm\n",
        "\n",
        "公式：台形の面積 =（上辺＋下辺）× 高さ ÷ 2"
      ],
      "metadata": {
        "id": "PVJA_j_oGltb"
      }
    }
  ]
}