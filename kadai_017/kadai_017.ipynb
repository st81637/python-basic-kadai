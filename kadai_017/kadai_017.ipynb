{
  "nbformat": 4,
  "nbformat_minor": 0,
  "metadata": {
    "colab": {
      "provenance": []
    },
    "kernelspec": {
      "name": "python3",
      "display_name": "Python 3"
    },
    "language_info": {
      "name": "python"
    }
  },
  "cells": [
    {
      "cell_type": "markdown",
      "source": [
        "##名前(name)と年齢(age)の属性を持つHumanクラスを作成してください。\n",
        "##Humanクラスには、以下の条件で標準出力(print)するcheck_adultメソッドを追加してください。\n",
        "###・ageが20以上の場合に大人であること\n",
        "###・そうでない場合に大人でないこと\n",
        "\n",
        "##Humanクラスのインスタンスを複数生成してリストに追加し、リストの要素数分だけcheck_adultメソッドを呼び出してください。\n",
        "\n"
      ],
      "metadata": {
        "id": "2xChMSwyMwyO"
      }
    },
    {
      "cell_type": "code",
      "source": [
        "#クラスHumanを定義\n",
        "class Human:\n",
        "\n",
        "    # コンストラクタの定義\n",
        "    def __init__(self, name, age):\n",
        "      #属性を定義する\n",
        "      self.name = name\n",
        "      self.age = age\n",
        "\n",
        "    # メソッドを定義する\n",
        "    def check_adult(self):\n",
        "        if self.age >= 20:\n",
        "          print(f\"{self.name}は大人です\")\n",
        "        else:\n",
        "          print(f\"{self.name}は大人ではありません\")\n",
        "\n",
        "#インスタンスを作成\n",
        "human_a = Human(\"Aさん\", 16)\n",
        "human_b = Human(\"Bさん\", 55)\n",
        "human_c = Human(\"Cさん\", 20)\n",
        "\n",
        "#インスタンスをリスト\"humans\"にする\n",
        "humans = [human_a, human_b, human_c]\n",
        "\n",
        "#リストの要素数分だけcheck_adultメソッドを呼び出す\n",
        "for human in humans:\n",
        "    human.check_adult()"
      ],
      "metadata": {
        "colab": {
          "base_uri": "https://localhost:8080/"
        },
        "id": "6bKco-_pNckC",
        "outputId": "3ee00be3-b16d-4c43-a02e-a3dd9a31f026"
      },
      "execution_count": 2,
      "outputs": [
        {
          "output_type": "stream",
          "name": "stdout",
          "text": [
            "Aさんは大人ではありません\n",
            "Bさんは大人です\n",
            "Cさんは大人です\n"
          ]
        }
      ]
    }
  ]
}